{
  "nbformat": 4,
  "nbformat_minor": 0,
  "metadata": {
    "colab": {
      "provenance": []
    },
    "kernelspec": {
      "name": "python3",
      "display_name": "Python 3"
    },
    "language_info": {
      "name": "python"
    }
  },
  "cells": [
    {
      "cell_type": "code",
      "execution_count": null,
      "metadata": {
        "colab": {
          "base_uri": "https://localhost:8080/"
        },
        "id": "WUwPNcVgp14q",
        "outputId": "22483b5a-1004-42ba-b2b2-daeb8c7c0155"
      },
      "outputs": [
        {
          "output_type": "stream",
          "name": "stdout",
          "text": [
            "[1. 2. 3.]\n"
          ]
        }
      ],
      "source": [
        "import numpy as np\n",
        "#creating an array\n",
        "arr=np.array([1,2,3],dtype=float)\n",
        "print(arr)\n"
      ]
    },
    {
      "cell_type": "code",
      "source": [
        "arrange=np.arange(5)\n",
        "print(arrange)#arranges the array in the sorted order"
      ],
      "metadata": {
        "colab": {
          "base_uri": "https://localhost:8080/"
        },
        "id": "OjmgY5FssHMU",
        "outputId": "d113de72-8829-449b-df3d-9d8de5430c5e"
      },
      "execution_count": null,
      "outputs": [
        {
          "output_type": "stream",
          "name": "stdout",
          "text": [
            "[0 1 2 3 4]\n"
          ]
        }
      ]
    },
    {
      "cell_type": "code",
      "source": [
        "zeros_arr=np.zeros((3,3),dtype=int)\n",
        "print(zeros_arr)#printing the matrix with all the zeros"
      ],
      "metadata": {
        "colab": {
          "base_uri": "https://localhost:8080/"
        },
        "id": "b4-SNjquqPOh",
        "outputId": "9a957e11-a18e-4540-e298-8931250f6f43"
      },
      "execution_count": null,
      "outputs": [
        {
          "output_type": "stream",
          "name": "stdout",
          "text": [
            "[[0 0 0]\n",
            " [0 0 0]\n",
            " [0 0 0]]\n"
          ]
        }
      ]
    },
    {
      "cell_type": "code",
      "source": [
        "ones_arr=np.ones((2,2),dtype=float)\n",
        "print(ones_arr)#printing the matrix with all the ones"
      ],
      "metadata": {
        "colab": {
          "base_uri": "https://localhost:8080/"
        },
        "id": "9ybrBJyKrCAD",
        "outputId": "0b8d5a29-d3b1-4b86-fa9c-af2aaad6facc"
      },
      "execution_count": null,
      "outputs": [
        {
          "output_type": "stream",
          "name": "stdout",
          "text": [
            "[[1. 1.]\n",
            " [1. 1.]]\n"
          ]
        }
      ]
    },
    {
      "cell_type": "code",
      "source": [
        "#array manipulation\n",
        "reshaped_arr=arr.reshape(5,1)\n",
        "print(reshaped_arr)#reshaping th array"
      ],
      "metadata": {
        "id": "t-zqrrLMsfa7"
      },
      "execution_count": null,
      "outputs": []
    },
    {
      "cell_type": "code",
      "source": [
        "arrange1=np.arange(0,100,5)\n",
        "print(arrange1)"
      ],
      "metadata": {
        "colab": {
          "base_uri": "https://localhost:8080/"
        },
        "id": "SbXtm6yW1BTG",
        "outputId": "01fb8d47-afd7-4c0f-b270-3dbd3259c690"
      },
      "execution_count": null,
      "outputs": [
        {
          "output_type": "stream",
          "name": "stdout",
          "text": [
            "[ 0  5 10 15 20 25 30 35 40 45 50 55 60 65 70 75 80 85 90 95]\n"
          ]
        }
      ]
    },
    {
      "cell_type": "code",
      "source": [],
      "metadata": {
        "id": "uetXV-SMN0LK"
      },
      "execution_count": null,
      "outputs": []
    },
    {
      "cell_type": "code",
      "source": [
        "data=np.savetxt(\"/content/sample.txt\",arrange1)"
      ],
      "metadata": {
        "id": "Tg-oZYzv1Cdi"
      },
      "execution_count": null,
      "outputs": []
    },
    {
      "cell_type": "code",
      "source": [
        "arrange1=np.arange(0,100,5)\n",
        "print(arrange1)"
      ],
      "metadata": {
        "colab": {
          "base_uri": "https://localhost:8080/"
        },
        "outputId": "01fb8d47-afd7-4c0f-b270-3dbd3259c690",
        "id": "AfsNOCYvN6wF"
      },
      "execution_count": null,
      "outputs": [
        {
          "output_type": "stream",
          "name": "stdout",
          "text": [
            "[ 0  5 10 15 20 25 30 35 40 45 50 55 60 65 70 75 80 85 90 95]\n"
          ]
        }
      ]
    },
    {
      "cell_type": "code",
      "source": [],
      "metadata": {
        "id": "UTOJ7FHmM454"
      },
      "execution_count": null,
      "outputs": []
    },
    {
      "cell_type": "code",
      "source": [
        "array1=np.array([1,2,3,4,5])\n",
        "print(array1[2:4])#printing the elements in the sequence"
      ],
      "metadata": {
        "colab": {
          "base_uri": "https://localhost:8080/"
        },
        "id": "J5fIN0TktGzN",
        "outputId": "e8ae9483-4306-45f3-a026-b62a634f9f5a"
      },
      "execution_count": null,
      "outputs": [
        {
          "output_type": "stream",
          "name": "stdout",
          "text": [
            "[3 4]\n"
          ]
        }
      ]
    },
    {
      "cell_type": "code",
      "source": [
        "b=array1.T\n",
        "print(b)#transposing a matrix"
      ],
      "metadata": {
        "colab": {
          "base_uri": "https://localhost:8080/"
        },
        "id": "-V1s9bGMtwHr",
        "outputId": "f25ba809-2141-4def-b04a-322f9c35a1cf"
      },
      "execution_count": null,
      "outputs": [
        {
          "output_type": "stream",
          "name": "stdout",
          "text": [
            "[1 2 3 4 5]\n"
          ]
        }
      ]
    },
    {
      "cell_type": "code",
      "source": [
        "a1=np.array([1,2,3,4,5,6,7,8])\n",
        "c=np.split(a1,2)#splitting an array\n",
        "print(c)"
      ],
      "metadata": {
        "colab": {
          "base_uri": "https://localhost:8080/"
        },
        "id": "pe34aP48uB7j",
        "outputId": "a94ff875-e4c8-4ddd-faa7-7a40f74e302c"
      },
      "execution_count": null,
      "outputs": [
        {
          "output_type": "stream",
          "name": "stdout",
          "text": [
            "[array([1, 2, 3, 4]), array([5, 6, 7, 8])]\n"
          ]
        }
      ]
    },
    {
      "cell_type": "code",
      "source": [
        "a=np.array([[1,2],[3,4]])\n",
        "b=np.array([[5,6],[7,8]])\n",
        "c=np.dot(a,b)#matrix multiplication\n",
        "print(c)\n"
      ],
      "metadata": {
        "colab": {
          "base_uri": "https://localhost:8080/"
        },
        "id": "FNVOLivqv-uN",
        "outputId": "a029bbe5-4add-4f1b-d510-bd09c94f4620"
      },
      "execution_count": null,
      "outputs": [
        {
          "output_type": "stream",
          "name": "stdout",
          "text": [
            "[[19 22]\n",
            " [43 50]]\n"
          ]
        }
      ]
    },
    {
      "cell_type": "code",
      "source": [
        "d=np.linalg.eig(c)#printing  the eigen vlaues\n",
        "print(d)"
      ],
      "metadata": {
        "colab": {
          "base_uri": "https://localhost:8080/"
        },
        "id": "CnopwCu0xODB",
        "outputId": "a583534f-2206-406f-f3c8-7fb0ad53350b"
      },
      "execution_count": null,
      "outputs": [
        {
          "output_type": "stream",
          "name": "stdout",
          "text": [
            "EigResult(eigenvalues=array([5.80198014e-02, 6.89419802e+01]), eigenvectors=array([[-0.75781077, -0.40313049],\n",
            "       [ 0.65247439, -0.91514251]]))\n"
          ]
        }
      ]
    },
    {
      "cell_type": "code",
      "source": [
        "\n",
        "a=np.random.rand()\n",
        "print(a)#random is a sub pacakage of numpy"
      ],
      "metadata": {
        "colab": {
          "base_uri": "https://localhost:8080/"
        },
        "id": "AD7LunHRQihL",
        "outputId": "ddb75a2b-9748-4873-bb08-18992d49a3c8"
      },
      "execution_count": null,
      "outputs": [
        {
          "output_type": "stream",
          "name": "stdout",
          "text": [
            "0.9669822517533474\n"
          ]
        }
      ]
    },
    {
      "cell_type": "code",
      "source": [
        "a=np.random.randint(0,3)\n",
        "print(a)"
      ],
      "metadata": {
        "colab": {
          "base_uri": "https://localhost:8080/"
        },
        "id": "FihpCI15SlRI",
        "outputId": "815b8791-b49c-49c5-aecb-d8844a5fcb2d"
      },
      "execution_count": null,
      "outputs": [
        {
          "output_type": "stream",
          "name": "stdout",
          "text": [
            "0\n"
          ]
        }
      ]
    },
    {
      "cell_type": "code",
      "source": [
        "a=np.array([[1,2],[3,4]])\n",
        "print(a.shape)"
      ],
      "metadata": {
        "colab": {
          "base_uri": "https://localhost:8080/"
        },
        "id": "fbj7FqPwTOwF",
        "outputId": "89d7a8df-8711-4b50-fc12-2e331f584943"
      },
      "execution_count": null,
      "outputs": [
        {
          "output_type": "stream",
          "name": "stdout",
          "text": [
            "(2, 2)\n"
          ]
        }
      ]
    },
    {
      "cell_type": "code",
      "source": [
        "a=np.linspace(0.8,2,5)\n",
        "print(a)"
      ],
      "metadata": {
        "colab": {
          "base_uri": "https://localhost:8080/"
        },
        "id": "9SSb4Z--UQXA",
        "outputId": "9c7ddd4f-3a1b-4d01-8657-fd785293d733"
      },
      "execution_count": null,
      "outputs": [
        {
          "output_type": "stream",
          "name": "stdout",
          "text": [
            "[0.8 1.1 1.4 1.7 2. ]\n"
          ]
        }
      ]
    },
    {
      "cell_type": "code",
      "source": [
        "import numpy as np\n",
        "a=np.arange(0,24).reshape(3,4,2)\n",
        "print(a)"
      ],
      "metadata": {
        "colab": {
          "base_uri": "https://localhost:8080/"
        },
        "id": "bpg0yCbgUvET",
        "outputId": "ed01a256-616d-4065-a8d2-5ae15e1c4d64"
      },
      "execution_count": null,
      "outputs": [
        {
          "output_type": "stream",
          "name": "stdout",
          "text": [
            "[[[ 0  1]\n",
            "  [ 2  3]\n",
            "  [ 4  5]\n",
            "  [ 6  7]]\n",
            "\n",
            " [[ 8  9]\n",
            "  [10 11]\n",
            "  [12 13]\n",
            "  [14 15]]\n",
            "\n",
            " [[16 17]\n",
            "  [18 19]\n",
            "  [20 21]\n",
            "  [22 23]]]\n"
          ]
        }
      ]
    },
    {
      "cell_type": "code",
      "source": [
        "import numpy as np\n",
        "a=np.array([[1,5],[5,4]])\n",
        "b=np.array([[1,8],[3,6]])\n",
        "c=np.dot(a,b)\n",
        "print(c)"
      ],
      "metadata": {
        "colab": {
          "base_uri": "https://localhost:8080/"
        },
        "id": "3BsqNmUWVL6m",
        "outputId": "0f5ee4ec-7744-4c43-c37d-e73afd9eb468"
      },
      "execution_count": null,
      "outputs": [
        {
          "output_type": "stream",
          "name": "stdout",
          "text": [
            "[[16 38]\n",
            " [17 64]]\n"
          ]
        }
      ]
    },
    {
      "cell_type": "code",
      "source": [
        "from numpy import random as rd\n",
        "a=np.ones((2,3),dtype=int)\n",
        "#print(a.sum())\n",
        "#print(a.sum(axis=1))\n",
        "#print(a.sum(axis=0))\n",
        "\n"
      ],
      "metadata": {
        "colab": {
          "base_uri": "https://localhost:8080/"
        },
        "id": "hQQ9eEIBZKc7",
        "outputId": "1ffdc4ef-280d-4777-faae-073f0e2f674a"
      },
      "execution_count": null,
      "outputs": [
        {
          "output_type": "stream",
          "name": "stdout",
          "text": [
            "[2 2 2]\n"
          ]
        }
      ]
    },
    {
      "cell_type": "markdown",
      "source": [
        "a=np.floor(1,2)\n",
        "print(a)"
      ],
      "metadata": {
        "id": "aWn_8IrQawtd"
      }
    },
    {
      "cell_type": "code",
      "source": [
        "c=np.random.random((2,2))\n",
        "#print(c)\n",
        "a=np.ceil(np.random.random((2,12)))\n",
        "a=np.floor(np.random.random((2,12)))\n",
        "print(a)"
      ],
      "metadata": {
        "colab": {
          "base_uri": "https://localhost:8080/"
        },
        "id": "_gvbIoPJaEoI",
        "outputId": "c6ff457e-1c95-4030-d748-2b93e74e0ff2"
      },
      "execution_count": null,
      "outputs": [
        {
          "output_type": "stream",
          "name": "stdout",
          "text": [
            "[[1. 1. 1. 1. 1. 1. 1. 1. 1. 1. 1. 1.]\n",
            " [1. 1. 1. 1. 1. 1. 1. 1. 1. 1. 1. 1.]]\n"
          ]
        }
      ]
    },
    {
      "cell_type": "code",
      "source": [
        "from numpy import random as rd\n",
        "a=np.array([[1,5],[5,4]])\n",
        "b=np.array([[1,8],[3,6]])\n",
        "#print(a)\n",
        "#print(a.max())\n",
        "print(a.max(axis=1))\n",
        "print(a.max(axis=0))\n",
        "print(a.min(axis=1))\n",
        "print(a.min(axis=0))"
      ],
      "metadata": {
        "colab": {
          "base_uri": "https://localhost:8080/"
        },
        "id": "-_aPtGG5chZn",
        "outputId": "67c2b6b4-b5f1-4416-d94c-1b98ebb4f1c0"
      },
      "execution_count": null,
      "outputs": [
        {
          "output_type": "stream",
          "name": "stdout",
          "text": [
            "[5 5]\n",
            "[5 5]\n",
            "[1 4]\n",
            "[1 4]\n"
          ]
        }
      ]
    },
    {
      "cell_type": "code",
      "source": [
        "from numpy import random as rd\n",
        "a=np.array([[1,5],[5,4]])\n",
        "b=np.array([[1,8],[3,6]])\n",
        "#print(a)\n",
        "#print(a.max())\n",
        "print(a.cumsum(axis=1))\n",
        "print(b.cumsum(axis=1))\n",
        "#print(a.max(axis=0))\n",
        "#print(a.min(axis=1))\n",
        "#print(a.min(axis=0))"
      ],
      "metadata": {
        "colab": {
          "base_uri": "https://localhost:8080/"
        },
        "id": "TyVynK59dNk4",
        "outputId": "5f0e7316-2fc5-4330-e9f7-a5db1a733913"
      },
      "execution_count": null,
      "outputs": [
        {
          "output_type": "stream",
          "name": "stdout",
          "text": [
            "[[1 6]\n",
            " [5 9]]\n",
            "[[1 9]\n",
            " [3 9]]\n"
          ]
        }
      ]
    },
    {
      "cell_type": "markdown",
      "source": [
        "a=np.array([2,3,5,6])\n",
        "print(a.cusum())\n",
        "\n"
      ],
      "metadata": {
        "id": "N5P3vOUFdxOf"
      }
    },
    {
      "cell_type": "code",
      "source": [
        "a=np.array([2,3,5,6])\n",
        "print(a.cumsum())\n",
        "\n"
      ],
      "metadata": {
        "colab": {
          "base_uri": "https://localhost:8080/"
        },
        "id": "E0qPERkteFLn",
        "outputId": "e27f527b-c189-4332-9b3a-c9e632ffe024"
      },
      "execution_count": null,
      "outputs": [
        {
          "output_type": "stream",
          "name": "stdout",
          "text": [
            "[ 2  5 10 16]\n"
          ]
        }
      ]
    },
    {
      "cell_type": "code",
      "source": [
        "a=np.array([2,3,5,6,7,8,8])\n",
        "a.resize(4,2)\n",
        "print(a.shape)"
      ],
      "metadata": {
        "colab": {
          "base_uri": "https://localhost:8080/"
        },
        "id": "ixL9Qwx6eUCv",
        "outputId": "5f97e4ba-cb80-4c11-e9f1-61dd12c65f46"
      },
      "execution_count": null,
      "outputs": [
        {
          "output_type": "stream",
          "name": "stdout",
          "text": [
            "(4, 2)\n"
          ]
        }
      ]
    },
    {
      "cell_type": "code",
      "source": [
        "a=np.array([2,3,5,6,7,8])\n",
        "a.resize(2,3)\n",
        "b=np.array([6,1,4,6,7,8])\n",
        "b.resize(2,3)\n",
        "#print(np.vstack((a,b)))\n",
        "print(np.hstack((a,b)))\n",
        "\n",
        "\n"
      ],
      "metadata": {
        "colab": {
          "base_uri": "https://localhost:8080/"
        },
        "id": "laiHhuZufJjL",
        "outputId": "04c8728c-c34c-48ac-db38-00a07b72c63c"
      },
      "execution_count": null,
      "outputs": [
        {
          "output_type": "stream",
          "name": "stdout",
          "text": [
            "[[2 3 5 6 1 4]\n",
            " [6 7 8 6 7 8]]\n"
          ]
        }
      ]
    },
    {
      "cell_type": "code",
      "source": [
        "a=np.arange(30).reshape(2,3,5)\n",
        "print(a)\n",
        "print(np.dstack(a))"
      ],
      "metadata": {
        "colab": {
          "base_uri": "https://localhost:8080/"
        },
        "id": "y0XnwnvShJMO",
        "outputId": "1b940ee7-2147-4c5d-b80f-81c13872062b"
      },
      "execution_count": null,
      "outputs": [
        {
          "output_type": "stream",
          "name": "stdout",
          "text": [
            "[[[ 0  1  2  3  4]\n",
            "  [ 5  6  7  8  9]\n",
            "  [10 11 12 13 14]]\n",
            "\n",
            " [[15 16 17 18 19]\n",
            "  [20 21 22 23 24]\n",
            "  [25 26 27 28 29]]]\n",
            "[[[ 0 15]\n",
            "  [ 1 16]\n",
            "  [ 2 17]\n",
            "  [ 3 18]\n",
            "  [ 4 19]]\n",
            "\n",
            " [[ 5 20]\n",
            "  [ 6 21]\n",
            "  [ 7 22]\n",
            "  [ 8 23]\n",
            "  [ 9 24]]\n",
            "\n",
            " [[10 25]\n",
            "  [11 26]\n",
            "  [12 27]\n",
            "  [13 28]\n",
            "  [14 29]]]\n"
          ]
        }
      ]
    },
    {
      "cell_type": "markdown",
      "source": [
        "number of rows becomes number of group\n",
        "column becomes rows\n",
        "group becomes column"
      ],
      "metadata": {
        "id": "7yA2MvJrh3fk"
      }
    },
    {
      "cell_type": "code",
      "source": [],
      "metadata": {
        "id": "2pt9aiD8iELx"
      },
      "execution_count": null,
      "outputs": []
    }
  ]
}