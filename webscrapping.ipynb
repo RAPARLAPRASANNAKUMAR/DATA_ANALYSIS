{
  "nbformat": 4,
  "nbformat_minor": 0,
  "metadata": {
    "colab": {
      "provenance": []
    },
    "kernelspec": {
      "name": "python3",
      "display_name": "Python 3"
    },
    "language_info": {
      "name": "python"
    }
  },
  "cells": [
    {
      "cell_type": "code",
      "source": [
        "import requests\n",
        "\n",
        "url = \"https://love-calculator.p.rapidapi.com/getPercentage\"\n",
        "\n",
        "querystring = {\"sname\":\"Alice\",\"fname\":\"John\"}\n",
        "\n",
        "headers = {\n",
        "\t\"X-RapidAPI-Key\": \"25630b763amsh020267a1cbecaf5p1d5686jsn8b5edbe4bba3\",\n",
        "\t\"X-RapidAPI-Host\": \"love-calculator.p.rapidapi.com\"\n",
        "}\n",
        "\n",
        "response = requests.get(url, headers=headers, params=querystring)\n",
        "\n",
        "print(response.json())"
      ],
      "metadata": {
        "colab": {
          "base_uri": "https://localhost:8080/"
        },
        "id": "1VbwIgBNSV_L",
        "outputId": "7d06b724-e742-4a9c-fe6b-392fdf2c6428"
      },
      "execution_count": 2,
      "outputs": [
        {
          "output_type": "stream",
          "name": "stdout",
          "text": [
            "{'fname': 'John', 'sname': 'Alice', 'percentage': '46', 'result': 'Can choose someone better.'}\n"
          ]
        }
      ]
    },
    {
      "cell_type": "code",
      "source": [
        "import requests\n",
        "\n",
        "url = \"https://omgvamp-hearthstone-v1.p.rapidapi.com/info\"\n",
        "\n",
        "headers = {\n",
        "\t\"X-RapidAPI-Key\": \"25630b763amsh020267a1cbecaf5p1d5686jsn8b5edbe4bba3\",\n",
        "\t\"X-RapidAPI-Host\": \"omgvamp-hearthstone-v1.p.rapidapi.com\"\n",
        "}\n",
        "\n",
        "response = requests.get(url, headers=headers)\n",
        "\n",
        "print(response.json())"
      ],
      "metadata": {
        "id": "yUE1MYvBV6Pb",
        "outputId": "0418610f-96fa-4801-fc91-9015c71be17f",
        "colab": {
          "base_uri": "https://localhost:8080/"
        }
      },
      "execution_count": 7,
      "outputs": [
        {
          "output_type": "stream",
          "name": "stdout",
          "text": [
            "{'patch': '28.6.2.194648', 'classes': ['Death Knight', 'Druid', 'Hunter', 'Mage', 'Paladin', 'Priest', 'Rogue', 'Shaman', 'Warlock', 'Warrior', 'Dream', 'Neutral', 'Whizbang', 'Demon Hunter'], 'sets': ['Basic', 'Classic', 'Hall of Fame', 'Missions', 'Demo', 'System', 'Slush', 'Promo', 'Naxxramas', 'Goblins vs Gnomes', 'Blackrock Mountain', 'The Grand Tournament', 'Credits', 'Hero Skins', 'Tavern Brawl', 'The League of Explorers', 'Whispers of the Old Gods', 'Whispers of the Old Gods', 'One Night in Karazhan', 'One Night in Karazhan', 'Mean Streets of Gadgetzan', 'Mean Streets of Gadgetzan', \"Journey to Un'Goro\", 'Knights of the Frozen Throne', 'Kobolds & Catacombs', 'The Witchwood', 'The Boomsday Project', \"Rastakhan's Rumble\", 'Rise of Shadows', 'Taverns of Time', 'Saviors of Uldum', 'Descent of Dragons', \"Galakrond's Awakening\", 'Ashes of Outland', 'Wild Event', 'Scholomance Academy', 'Battlegrounds', 'Demon Hunter Initiate', 'Madness at the Darkmoon Faire', 'Forged in the Barrens', 'Legacy', 'Core', 'Classic', 'Wailing Caverns', 'United in Stormwind', 'Mercenaries', 'Fractured in Alterac Valley', 'Voyage to the Sunken City', 'Unknown', 'Murder at Castle Nathria', 'March of the Lich King', 'Path of Arthas', 'Festival of Legends', 'TITANS', 'Caverns of Time', 'Showdown in the Badlands', 'Tutorial', \"Whizbang's Workshop\", 'Event'], 'standard': ['Core', 'Forged in the Barrens', 'United in Stormwind', 'Fractured in Alterac Valley', 'Voyage to the Sunken City', 'Murder at Castle Nathria', 'March of the Lich King', 'Path of Arthas', 'Festival of Legends', 'TITANS', 'Showdown in the Badlands', \"Whizbang's Workshop\", 'Event'], 'wild': ['Legacy', 'Promo', 'Naxxramas', 'Goblins vs Gnomes', 'Blackrock Mountain', 'The Grand Tournament', 'The League of Explorers', 'Whispers of the Old Gods', 'Whispers of the Old Gods', 'One Night in Karazhan', 'One Night in Karazhan', 'Mean Streets of Gadgetzan', 'Mean Streets of Gadgetzan', \"Journey to Un'Goro\", 'Knights of the Frozen Throne', 'Kobolds & Catacombs', 'The Witchwood', 'The Boomsday Project', \"Rastakhan's Rumble\", 'Rise of Shadows', 'Saviors of Uldum', 'Descent of Dragons', \"Galakrond's Awakening\", 'Ashes of Outland', 'Demon Hunter Initiate', 'Scholomance Academy', 'Madness at the Darkmoon Faire', 'Forged in the Barrens', 'United in Stormwind', 'Fractured in Alterac Valley', 'Voyage to the Sunken City', 'Murder at Castle Nathria', 'March of the Lich King', 'Path of Arthas', 'Festival of Legends', 'TITANS', 'Caverns of Time', 'Showdown in the Badlands', \"Whizbang's Workshop\", 'Event'], 'types': ['Hero', 'Minion', 'Spell', 'Enchantment', 'Weapon', 'Hero Power', 'Location'], 'factions': ['Horde', 'Alliance', 'Neutral'], 'qualities': ['Common', 'Free', 'Rare', 'Epic', 'Legendary'], 'races': ['Orc', 'Undead', 'Murloc', 'Demon', 'Mech', 'Elemental', 'Beast', 'Totem', 'Pirate', 'Dragon', 'All', 'Quilboar', 'Naga'], 'locales': {'DE_DE': 'deDE', 'EN_GB': 'enGB', 'EN_US': 'enUS', 'ES_ES': 'esES', 'ES_MX': 'esMX', 'FR_FR': 'frFR', 'IT_IT': 'itIT', 'KO_KR': 'koKR', 'PL_PL': 'plPL', 'PT_BR': 'ptBR', 'RU_RU': 'ruRU', 'ZH_CN': 'zhCN', 'ZH_TW': 'zhTW', 'JA_JP': 'jaJP', 'TH_TH': 'thTH'}}\n"
          ]
        }
      ]
    },
    {
      "cell_type": "code",
      "source": [],
      "metadata": {
        "id": "rQokev-KWIMI",
        "outputId": "1c41e971-4960-458a-dd4a-17ba8c5f6029",
        "colab": {
          "base_uri": "https://localhost:8080/"
        }
      },
      "execution_count": 8,
      "outputs": [
        {
          "output_type": "stream",
          "name": "stdout",
          "text": [
            "{'message': 'You are not subscribed to this API.'}\n"
          ]
        }
      ]
    },
    {
      "cell_type": "code",
      "source": [
        "import requests\n",
        "\n",
        "url = \"https://mashape-community-urban-dictionary.p.rapidapi.com/define\"\n",
        "\n",
        "querystring = {\"term\":\"wat\"}\n",
        "\n",
        "headers = {\n",
        "\t\"X-RapidAPI-Key\": \"25630b763amsh020267a1cbecaf5p1d5686jsn8b5edbe4bba3\",\n",
        "\t\"X-RapidAPI-Host\": \"mashape-community-urban-dictionary.p.rapidapi.com\"\n",
        "}\n",
        "\n",
        "response = requests.get(url, headers=headers, params=querystring)\n",
        "\n",
        "print(response.json())"
      ],
      "metadata": {
        "id": "h5w54P32WUnC",
        "outputId": "63229c13-af11-4742-b46b-659665f236c6",
        "colab": {
          "base_uri": "https://localhost:8080/"
        }
      },
      "execution_count": 10,
      "outputs": [
        {
          "output_type": "stream",
          "name": "stdout",
          "text": [
            "{'list': [{'definition': 'The only [proper] [response] to something that makes absolutely [no sense].', 'permalink': 'http://wat.urbanup.com/3322419', 'thumbs_up': 3991, 'author': 'watwat', 'word': 'wat', 'defid': 3322419, 'current_vote': '', 'written_on': '2008-09-04T09:15:08.000Z', 'example': \"1: If all the animals on the [equator] were capable of [flattery], Halloween and Easter would fall on the same day.\\r\\n2: wat\\r\\n\\r\\n1: Wow your cock is almost as big as my dad's.\\r\\n2: wat\\r\\n\\r\\n1: I accidentially a whole [coke bottle]\\r\\n2: You accidentially what?\\r\\n1: A whole coke bottle\\r\\n2: wat\", 'thumbs_down': 443}, {'definition': 'Slang.  Indicates [confusion] or [a need] for [clarification].  Statement/question.', 'permalink': 'http://wat.urbanup.com/1308686', 'thumbs_up': 1218, 'author': 'stewpidwhytemayun', 'word': 'wat', 'defid': 1308686, 'current_vote': '', 'written_on': '2005-06-08T23:20:56.000Z', 'example': '1: \"[lolz] Yea sex is great and everything but its way too overrated. Its like [o yea] i screwed this girl or this guy and i hear it over and over. And all it causes is more drama, not org drama, but more like [Maury] drama. So yea, im not gonna have sex till i have a gf that lasts for a year.\"\\r\\n2: \"wat\"', 'thumbs_down': 404}, {'definition': '\\u200e[Wat] is the internet troll equivalent to what and is generally used in instances in which what simply does NOT seem to [adequately] [portray] the desired level of confusion and general whatthefuckness of the situation.', 'permalink': 'http://wat.urbanup.com/5112312', 'thumbs_up': 214, 'author': 'Razgriz117', 'word': 'wat', 'defid': 5112312, 'current_vote': '', 'written_on': '2010-07-22T15:55:51.000Z', 'example': 'Guy 1: Hey, [Jimmy]. Can I ask you a question?\\n\\nGuy 2 ([presumably] Jimmy): Yeah?\\n\\nGuy 1: Has anyone REALLY been far even as decided to use even go want to do look [more like]?\\n\\nGuy 2: wat?', 'thumbs_down': 96}, {'definition': 'A word, that when perfectly placed, is a powerful [ally]. It\\'s like saying \"What the fuck?\" when you are completely and utterly [dumbfounded] by [a concept], idea, or situation.', 'permalink': 'http://wat.urbanup.com/3351192', 'thumbs_up': 360, 'author': 'Nevandal', 'word': 'wat', 'defid': 3351192, 'current_vote': '', 'written_on': '2008-09-20T09:20:12.000Z', 'example': '[Reno]: this chick looks kinda like brittany\\r\\nReno: except brittany is [way way] waaaaaaay hotter than her\\r\\n[Nev]: that chick\\r\\nNev: no offense\\r\\nNev: but she\\'s fuckin hideous\\r\\nReno: dude i know lmao\\r\\nNev: jesus\\r\\nNev: her face\\r\\nReno: brittany is like the hot version of that look\\r\\nNev: good god\\r\\nNev: dude\\r\\nReno: that chicks fugly\\r\\nNev: i dont see a hot version of that at all\\r\\nReno: lmao\\r\\nNev: thats like posting a picture of [carrot top] and saying someone is the \"hot version\". there is no possible way to concieve of it.\\r\\nNev: it\\'s ...INCONCIEVABLE!\\r\\nReno: i knew a girl who thought carrot top was hott\\r\\nNev: wat', 'thumbs_down': 192}, {'definition': 'Short form of \"what\". Is usually used by people who\\'s synapses fire at a very slow rate. Can be used by otherwise [literate] people to [convey] a state of being utterly [flabbergasted].', 'permalink': 'http://wat.urbanup.com/3621253', 'thumbs_up': 310, 'author': 'JulesIsCools', 'word': 'wat', 'defid': 3621253, 'current_vote': '', 'written_on': '2009-01-13T22:44:28.000Z', 'example': \"Nick: So, [your cousin] is sleeping over tonight. \\r\\nGeorge: Yeah.\\r\\nNick: Is that your cousin in [the picture] on your Myspace?\\r\\nGeorge: Yeah.\\r\\nNick: She looks pretty cool.\\r\\nGeorge: Sure, she's cool.\\r\\nNick: She's hot, actually.\\r\\nGeorge: ...\\r\\nNick: Can I [sleep over] tonight?\\r\\nGeorge: wat\", 'thumbs_down': 171}, {'definition': \"What one says when they're [devoid] of any particular useful words.\\r\\nAlso used for extreme [confusion].\\n\\nOften [extended]. (WWWWWWAAAAAAAATTTTTTTTT)\", 'permalink': 'http://wat.urbanup.com/7174933', 'thumbs_up': 16, 'author': 'Player72', 'word': 'wat', 'defid': 7174933, 'current_vote': '', 'written_on': '2013-09-15T00:44:08.942Z', 'example': 'A: Make sure you register with [DNS] correctly by opening [CMD] and typing [ipconfig] /registerdns.\\r\\nB: wat?', 'thumbs_down': 7}, {'definition': \"[Thai] [temple], found all over [Thailand]. Pronounced 'waht'.\", 'permalink': 'http://wat.urbanup.com/993760', 'thumbs_up': 372, 'author': 'Will', 'word': 'wat', 'defid': 993760, 'current_vote': '', 'written_on': '2005-01-12T15:38:19.000Z', 'example': '\"Let\\'s go see the [Emerald] Buddha at Wat [Pra] [Kaeo]\"', 'thumbs_down': 342}, {'definition': '[the meme] version of what you just [take out] [the h] in it', 'permalink': 'http://wat.urbanup.com/16045958', 'thumbs_up': 0, 'author': 'hatman definitions', 'word': 'wat', 'defid': 16045958, 'current_vote': '', 'written_on': '2021-05-31T01:33:25.794Z', 'example': '[Mike]: [my mom] is [sick]\\r\\nMe: wat', 'thumbs_down': 0}, {'definition': 'Wat is short for \"What\" but is only spelt \"Wat\" by total inbred morons who have no idea how to actually write a proper message, which can be understood.\\r\\n\\r\\nWords which also fall into this are:\\r\\n\\r\\n[Woz]\\r\\n[Wiv]\\r\\n[Fink]\\r\\nDat\\r\\nDa\\r\\nDer\\r\\nDis\\r\\nDen\\r\\nNo (Know)', 'permalink': 'http://wat.urbanup.com/745302', 'thumbs_up': 472, 'author': 'Cloud', 'word': 'wat', 'defid': 745302, 'current_vote': '', 'written_on': '2004-07-03T22:40:07.000Z', 'example': 'Wat u doin, lolz, ow [woz] last nite, i heard der woz a [fite], [i fink] it woz wiv dat boy frm across da road hehe tb xxx', 'thumbs_down': 585}, {'definition': 'An [utterance] one would say if [someone else] were to stay something incredibly stupid or someone stupid were to [say something] smart.', 'permalink': 'http://wat.urbanup.com/11746798', 'thumbs_up': 3, 'author': 'GoFuckYourself.avi', 'word': 'wat', 'defid': 11746798, 'current_vote': '', 'written_on': '2017-06-30T01:00:00.639Z', 'example': \"Person 1: Dude, how do you [boil water]?\\r\\nPerson 2: Wat.\\r\\n[_______________]\\n\\nStupid guy: Maybe if you tell me the brain is an app, I'll use it.\\r\\nPerson 2: [Listen up] here you fa--- wat.\", 'thumbs_down': 1}]}\n"
          ]
        }
      ]
    },
    {
      "cell_type": "code",
      "source": [
        "import requests\n",
        "\n",
        "url = \"https://currency-exchange.p.rapidapi.com/listquotes\"\n",
        "\n",
        "headers = {\n",
        "\t\"X-RapidAPI-Key\": \"25630b763amsh020267a1cbecaf5p1d5686jsn8b5edbe4bba3\",\n",
        "\t\"X-RapidAPI-Host\": \"currency-exchange.p.rapidapi.com\"\n",
        "}\n",
        "\n",
        "response = requests.get(url, headers=headers)\n",
        "\n",
        "print(response.json())"
      ],
      "metadata": {
        "id": "M-7G6858Xj41",
        "outputId": "4f0cff97-c101-4bef-bbce-191289796e6a",
        "colab": {
          "base_uri": "https://localhost:8080/"
        }
      },
      "execution_count": 12,
      "outputs": [
        {
          "output_type": "stream",
          "name": "stdout",
          "text": [
            "['SGD', 'MYR', 'EUR', 'USD', 'AUD', 'JPY', 'CNH', 'HKD', 'CAD', 'INR', 'DKK', 'GBP', 'RUB', 'NZD', 'MXN', 'IDR', 'TWD', 'THB', 'VND']\n"
          ]
        }
      ]
    },
    {
      "cell_type": "markdown",
      "source": [],
      "metadata": {
        "id": "ycOF_hjrX89p"
      }
    }
  ]
}